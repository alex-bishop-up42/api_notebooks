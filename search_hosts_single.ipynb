{
 "cells": [
  {
   "cell_type": "markdown",
   "id": "6083cabb-459a-485f-bd6f-1f629f3bad97",
   "metadata": {
    "tags": []
   },
   "source": [
    "## Data search on hosts using API"
   ]
  },
  {
   "cell_type": "code",
   "execution_count": null,
   "id": "76c85b7f-98b5-454d-88c4-f5ae48c0e0c6",
   "metadata": {},
   "outputs": [],
   "source": [
    "import requests\n",
    "from pathlib import Path\n",
    "import json\n",
    "import geopandas as gp\n",
    "import matplotlib.pyplot as plt\n",
    "import cartopy.crs as ccrs\n",
    "import cartopy.feature as cfeature\n",
    "from datetime import datetime\n",
    "from datetime import timedelta"
   ]
  },
  {
   "cell_type": "markdown",
   "id": "07fde5d8-fa51-4438-a887-e1c20a9a858d",
   "metadata": {
    "tags": []
   },
   "source": [
    "### Credentials"
   ]
  },
  {
   "cell_type": "code",
   "execution_count": null,
   "id": "9bc009a8-84ad-440a-bc2c-21ae7fb6f668",
   "metadata": {},
   "outputs": [],
   "source": [
    "# PROJECT CREDENTIALS\n",
    "\n",
    "# Path, load read json with credential secrets\n",
    "proj_conf_file_path = Path.cwd()/'project-config-file.json'\n",
    "\n",
    "# Opening JSON file and load into dict\n",
    "open_proj_conf_file = open(proj_conf_file_path)\n",
    "project_credentials = json.load(open_proj_conf_file)"
   ]
  },
  {
   "cell_type": "code",
   "execution_count": null,
   "id": "91c609f7-f295-4775-8f09-6e839f7989d0",
   "metadata": {},
   "outputs": [],
   "source": [
    "# PROJECT CREDENTIALS\n",
    "\n",
    "client_id = project_credentials['project_id']\n",
    "client_secret = project_credentials['project_api_key']"
   ]
  },
  {
   "cell_type": "markdown",
   "id": "ca8bb70b-59b8-4e0c-832b-389b5fe8af4c",
   "metadata": {
    "tags": []
   },
   "source": [
    "### Functions"
   ]
  },
  {
   "cell_type": "code",
   "execution_count": null,
   "id": "0672ea7d-149c-4890-b92a-65fff65a7ce6",
   "metadata": {},
   "outputs": [],
   "source": [
    "# Get access token\n",
    "def get_ptoken(client_id, client_secret):\n",
    "    response = requests.post(\"https://api.up42.com/oauth/token\",\n",
    "                             data={\"grant_type\": \"client_credentials\"},\n",
    "                             auth=(client_id, client_secret)\n",
    "                            )\n",
    "    \n",
    "    return response.json()[\"access_token\"]"
   ]
  },
  {
   "cell_type": "code",
   "execution_count": null,
   "id": "b061cbd2-a477-4519-90d1-839bafa2e47e",
   "metadata": {},
   "outputs": [],
   "source": [
    "# Get all hosts\n",
    "\n",
    "def get_list_hosts(PTOKEN):\n",
    "    response = requests.get(\"https://api.up42.com/hosts\",\n",
    "                            data={\"grant_type\": \"client_credentials\"},\n",
    "                            headers={\"Authorization\": \"Bearer \" + PTOKEN}\n",
    "                           )\n",
    "    return response.json()[\"data\"]\n",
    "\n",
    "# Search data through Hosts \n",
    "def search_hosts(PTOKEN, HOST_NAME):\n",
    "    response = requests.post(\"https://api.up42.com/catalog/hosts/\"+HOST_NAME+\"/stac/search\",\n",
    "                            headers={\"Authorization\": \"Bearer \" + PTOKEN,\n",
    "                                    \"Content-Type\" : \"application/json\"},\n",
    "                             data=updated_payload\n",
    "                           )\n",
    "    return response.json()"
   ]
  },
  {
   "cell_type": "markdown",
   "id": "c925c88d-db92-4b25-8909-178c222165c1",
   "metadata": {
    "tags": []
   },
   "source": [
    "### Available Hosts"
   ]
  },
  {
   "cell_type": "code",
   "execution_count": null,
   "id": "67d6b288-854f-4bca-8980-378d47c1852c",
   "metadata": {},
   "outputs": [],
   "source": [
    "# Build our host list calling \"build_host_list()\" function\n",
    "\n",
    "PTOKEN = get_ptoken(client_id, client_secret)\n",
    "#PTOKEN\n",
    "\n",
    "hosts_name = get_list_hosts(PTOKEN)\n",
    "current_host_list = [((hosts_name)[i]['name']) for i in range(len(hosts_name))]"
   ]
  },
  {
   "cell_type": "code",
   "execution_count": null,
   "id": "0130bebf-cd12-4c69-9701-b2476bbb8cb7",
   "metadata": {},
   "outputs": [],
   "source": [
    "current_host_list"
   ]
  },
  {
   "cell_type": "markdown",
   "id": "06f20370-4785-419c-b899-f32cb19ec0f2",
   "metadata": {
    "tags": []
   },
   "source": [
    "### AOI"
   ]
  },
  {
   "cell_type": "code",
   "execution_count": null,
   "id": "a1a351c4-7d7a-4c1b-971c-887df2872559",
   "metadata": {
    "tags": []
   },
   "outputs": [],
   "source": [
    "# Manage aoi file for use in payload or results plot\n",
    "\n",
    "# AOI file path\n",
    "    aoi_file_path = Path.cwd()/'YOUR_AOI.geojson'\n",
    "\n",
    "# Opening JSON file and load into variable aoi\n",
    "aoi_file = open(aoi_file_path)\n",
    "aoi = json.load(aoi_file)\n",
    "\n",
    "# Use geopandas to read aoi file and extract aoi bounds\n",
    "gpaoi = gp.read_file(aoi_file_path)\n",
    "bounds = gpaoi.total_bounds\n",
    "\n",
    "# Bbox coordinates for payload if wanted\n",
    "bbox_coord = [bounds[0], bounds[1], bounds[2], bounds[3]]\n",
    "\n",
    "# Intersects coordinate for payload if wanted\n",
    "intersects_coord = aoi['features'][0]['geometry']\n",
    "\n",
    "aoi"
   ]
  },
  {
   "cell_type": "markdown",
   "id": "cf625cc2-4f26-4d0b-bdd1-b3c3da94a137",
   "metadata": {
    "tags": []
   },
   "source": [
    "### Search parameters / Payload"
   ]
  },
  {
   "cell_type": "code",
   "execution_count": null,
   "id": "ef8f3b52-5970-4a89-9a2a-face282c23e2",
   "metadata": {
    "tags": []
   },
   "outputs": [],
   "source": [
    "# Search parameters from file - here we essentialy set a template payload that is built properly (we can update parameters in the next code block)\n",
    "\n",
    "# File path\n",
    "file_path = Path.cwd()/'search_params/sr_og.json'\n",
    "\n",
    "# Opening JSON file and load into dict\n",
    "sr_file = open(file_path)\n",
    "payload = json.load(sr_file)\n",
    "payload"
   ]
  },
  {
   "cell_type": "code",
   "execution_count": null,
   "id": "6ea9922b-57e0-4ff8-b5aa-2b0d8df93e6e",
   "metadata": {
    "tags": []
   },
   "outputs": [],
   "source": [
    "# Search parameters - update payload query options (\"Airbus\",\"TWENTY_ONE_AT\", \"ESA\", \"CAPELLA_SPACE\", \"NEAR_SPACE_LABS\")\n",
    "# The easiest might be building the json payload seperatly, this code block does however allow you to updated\n",
    "# values from the template payload read in th eprevious code block. \n",
    "# You can modify the json by commenting on or off the del or payload lines to change you json payload file.\n",
    "\n",
    "payload[\"datetime\"] = \"2022-01-01T00:00:00Z/2022-12-31T23:59:59Z\"\n",
    "\n",
    "del payload[\"intersects\"]\n",
    "#payload[\"intersects\"] = intersects_coord\n",
    "\n",
    "#del payload[\"bbox\"]\n",
    "payload[\"bbox\"] = bbox_coord\n",
    "\n",
    "#del payload[\"contains\"]\n",
    "#payload[\"contains\"] = intersects_coord\n",
    "\n",
    "#del payload[\"limit\"]\n",
    "payload[\"limit\"] = 500\n",
    "\n",
    "#del payload[\"collections\"]\n",
    "payload[\"collections\"] = []\n",
    "\n",
    "#del payload[\"query\"][\"cloudCoverage\"][\"lte\"]\n",
    "payload[\"query\"][\"cloudCoverage\"][\"lte\"] = 50\n",
    "\n",
    "#del payload[\"query\"][\"resolution\"][\"lte\"]\n",
    "payload[\"query\"][\"resolution\"][\"lte\"] = 10\n",
    "\n",
    "del payload[\"query\"][\"producer\"]\n",
    "#payload[\"query\"][\"producer\"][\"in\"] = []\n",
    "\n",
    "del payload[\"query\"][\"up42:usageType\"]\n",
    "#payload[\"query\"][\"up42:usageType\"][\"in\"] = []\n",
    "\n",
    "del payload[\"query\"][\"processingLevel\"]\n",
    "#payload[\"query\"][\"processingLevel\"][\"in\"] = []\n",
    "\n",
    "del payload[\"query\"][\"deliveryTime\"]\n",
    "#payload[\"query\"][\"deliveryTime\"][\"in\"] = []\n",
    "\n",
    "updated_payload = json.dumps(payload)\n",
    "updated_payload"
   ]
  },
  {
   "cell_type": "markdown",
   "id": "bb215052-d924-4eff-9257-dbb76f394482",
   "metadata": {
    "tags": []
   },
   "source": [
    "### Single host search"
   ]
  },
  {
   "cell_type": "code",
   "execution_count": null,
   "id": "7f163294-71a8-4e0e-b929-822afff362cf",
   "metadata": {},
   "outputs": [],
   "source": [
    "# Remember tokens run out after FIVE MINUTES, refresh often\n",
    "\n",
    "PTOKEN = get_ptoken(client_id, client_secret)"
   ]
  },
  {
   "cell_type": "code",
   "execution_count": null,
   "id": "cd024f05-62d8-4425-ad29-1a0bf2969d8b",
   "metadata": {
    "tags": []
   },
   "outputs": [],
   "source": [
    "# Search Results as geodataframe - change the host name to search other hosts\n",
    "HOST_NAME = \"oneatlas\"\n",
    "gp_search_result = gp.GeoDataFrame.from_features(search_hosts(PTOKEN, HOST_NAME))"
   ]
  },
  {
   "cell_type": "code",
   "execution_count": null,
   "id": "45c8f133-b1d1-4f5b-ad62-56c07b96bce4",
   "metadata": {
    "tags": []
   },
   "outputs": [],
   "source": [
    "gp_search_result"
   ]
  },
  {
   "cell_type": "code",
   "execution_count": null,
   "id": "5b94d2f2-a264-439b-946d-a7b16f9b184e",
   "metadata": {},
   "outputs": [],
   "source": [
    "# Number of scenes found\n",
    "print(f\"{len(gp_search_result['collection'])} {HOST_NAME} scenes found\")\n",
    "\n",
    "# Break down per collection (mostly for oneatlas)\n",
    "print(gp_search_result['collection'].value_counts())"
   ]
  },
  {
   "cell_type": "code",
   "execution_count": null,
   "id": "75fbd047-f9bc-49cf-9cf2-8c66bd2ce511",
   "metadata": {
    "tags": []
   },
   "outputs": [],
   "source": [
    "#{gp_search_result['constellation']}\")\n",
    "result_list = [(gp_search_result['acquisitionDate'][i], gp_search_result['constellation'][i], gp_search_result['cloudCoverage'][i]) for i in range(len(gp_search_result))]\n",
    "result_list"
   ]
  },
  {
   "cell_type": "markdown",
   "id": "5527fa12-8b3e-422e-9b7c-e1adf2532c4f",
   "metadata": {
    "tags": []
   },
   "source": [
    "### Plot results"
   ]
  },
  {
   "cell_type": "code",
   "execution_count": null,
   "id": "725a1a84-f885-49e7-a47d-834e76f17a25",
   "metadata": {
    "tags": []
   },
   "outputs": [],
   "source": [
    "# Plot coverage\n",
    "zoom_factor = -1\n",
    "fig = plt.figure(figsize=(12, 16))\n",
    "\n",
    "ax = plt.axes(projection=ccrs.PlateCarree())\n",
    "ax.coastlines(resolution='50m', color='darkslategray', linewidth=0.25)\n",
    "ax.add_feature(cfeature.BORDERS, linestyle=':', linewidth=0.5, zorder=1)\n",
    "ax.add_feature(cfeature.LAND, zorder=0)\n",
    "ax.set_extent([bounds[0]+zoom_factor, bounds[2]-zoom_factor, bounds[1]+zoom_factor, bounds[3]-zoom_factor])\n",
    "ax.gridlines(draw_labels=True, dms=True, x_inline=False, y_inline=False)\n",
    "\n",
    "ax.add_geometries(gpaoi.geometry, crs=ccrs.PlateCarree(),\n",
    "                  edgecolor='blue', facecolor='none', zorder = 2)\n",
    "#ax.add_geometries(all_host_results.geometry, crs=ccrs.PlateCarree(),\n",
    "#                  edgecolor='magenta', facecolor='none', zorder = 3)\n",
    "ax.add_geometries(gp_search_result.geometry, crs=ccrs.PlateCarree(),\n",
    "                  edgecolor='magenta', facecolor='none', zorder = 4)\n",
    "\n",
    "\n",
    "plt.show()"
   ]
  },
  {
   "cell_type": "markdown",
   "id": "280d48b3-dfc2-45ff-8605-6e8fca5125b7",
   "metadata": {
    "tags": []
   },
   "source": [
    "### Meta deep dive"
   ]
  },
  {
   "cell_type": "code",
   "execution_count": null,
   "id": "01cf5f6d-93ce-409d-9094-cf3807de2e05",
   "metadata": {},
   "outputs": [],
   "source": [
    "gp_search_result.keys()"
   ]
  },
  {
   "cell_type": "code",
   "execution_count": null,
   "id": "5a1c8352-2410-4623-b53a-e3a7a7134a86",
   "metadata": {
    "tags": []
   },
   "outputs": [],
   "source": [
    "gp_search_result.providerProperties[0]"
   ]
  },
  {
   "cell_type": "markdown",
   "id": "14291cac-ef3b-4b92-8950-d94cc3de5af3",
   "metadata": {},
   "source": [
    "If you have any questions or would like advice on other up42 things, feel free to reach out!!\n",
    "Happy developing - Alex (alex.bishop@up42.com)"
   ]
  }
 ],
 "metadata": {
  "kernelspec": {
   "display_name": "Python 3 (ipykernel)",
   "language": "python",
   "name": "python3"
  },
  "language_info": {
   "codemirror_mode": {
    "name": "ipython",
    "version": 3
   },
   "file_extension": ".py",
   "mimetype": "text/x-python",
   "name": "python",
   "nbconvert_exporter": "python",
   "pygments_lexer": "ipython3",
   "version": "3.8.12"
  }
 },
 "nbformat": 4,
 "nbformat_minor": 5
}
