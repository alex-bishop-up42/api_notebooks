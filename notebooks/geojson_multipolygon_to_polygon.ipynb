{
 "cells": [
  {
   "cell_type": "code",
   "execution_count": null,
   "id": "3820501b-08ec-4495-9800-120e55975373",
   "metadata": {},
   "outputs": [],
   "source": [
    "import geojson\n",
    "import geopandas as gp\n",
    "from pathlib import Path"
   ]
  },
  {
   "cell_type": "code",
   "execution_count": null,
   "id": "83106a49-2855-4f32-874b-f499da1e1ab0",
   "metadata": {},
   "outputs": [],
   "source": [
    "file_path = Path.cwd()/'aoi/indufor/aoi_priority_1.geojson'"
   ]
  },
  {
   "cell_type": "code",
   "execution_count": null,
   "id": "db78fcf2-9388-4de3-92af-c75ec04e560a",
   "metadata": {
    "tags": []
   },
   "outputs": [],
   "source": [
    "gdf = gp.read_file(file_path)\n",
    "gdf"
   ]
  },
  {
   "cell_type": "code",
   "execution_count": null,
   "id": "f746c94d-ae62-49b9-ae79-114f6c7cf874",
   "metadata": {
    "tags": []
   },
   "outputs": [],
   "source": [
    "i = 0\n",
    "\n",
    "gdf_explode = gdf.explode()\n",
    "\n",
    "for i in range(len(gdf)):\n",
    "    #print(f'{i}:{i+1}')\n",
    "    gdf_row = gp.GeoDataFrame.from_features(gdf_explode[i:i+1])\n",
    "\n",
    "    filename = str(gdf_row.F_name[0])+'.geojson'\n",
    "    print(filename)\n",
    "    gdf_row.to_file('aoi/indufor/'+filename, driver='GeoJSON')\n",
    "    i=+1\n"
   ]
  },
  {
   "cell_type": "code",
   "execution_count": null,
   "id": "cc8d67cf-1636-4cd7-b075-d4b6cd8ea380",
   "metadata": {},
   "outputs": [],
   "source": []
  }
 ],
 "metadata": {
  "kernelspec": {
   "display_name": "Python 3 (ipykernel)",
   "language": "python",
   "name": "python3"
  },
  "language_info": {
   "codemirror_mode": {
    "name": "ipython",
    "version": 3
   },
   "file_extension": ".py",
   "mimetype": "text/x-python",
   "name": "python",
   "nbconvert_exporter": "python",
   "pygments_lexer": "ipython3",
   "version": "3.8.12"
  }
 },
 "nbformat": 4,
 "nbformat_minor": 5
}
