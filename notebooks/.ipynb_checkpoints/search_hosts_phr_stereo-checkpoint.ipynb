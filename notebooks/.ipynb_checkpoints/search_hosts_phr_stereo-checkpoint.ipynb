{
 "cells": [
  {
   "cell_type": "markdown",
   "id": "6083cabb-459a-485f-bd6f-1f629f3bad97",
   "metadata": {
    "tags": []
   },
   "source": [
    "## PHR Stereo archive search"
   ]
  },
  {
   "cell_type": "markdown",
   "id": "54ed87e8-0be1-41e9-95bd-79bbf44acc77",
   "metadata": {
    "jp-MarkdownHeadingCollapsed": true,
    "tags": []
   },
   "source": [
    "### Libraries"
   ]
  },
  {
   "cell_type": "code",
   "execution_count": 1,
   "id": "76c85b7f-98b5-454d-88c4-f5ae48c0e0c6",
   "metadata": {},
   "outputs": [],
   "source": [
    "import requests\n",
    "from pathlib import Path\n",
    "import json\n",
    "import geopandas as gp\n",
    "import matplotlib.pyplot as plt\n",
    "import cartopy.crs as ccrs\n",
    "import cartopy.feature as cfeature\n",
    "from datetime import datetime\n",
    "from datetime import timedelta"
   ]
  },
  {
   "cell_type": "markdown",
   "id": "07fde5d8-fa51-4438-a887-e1c20a9a858d",
   "metadata": {
    "jp-MarkdownHeadingCollapsed": true,
    "tags": []
   },
   "source": [
    "### Credentials"
   ]
  },
  {
   "cell_type": "code",
   "execution_count": 2,
   "id": "9bc009a8-84ad-440a-bc2c-21ae7fb6f668",
   "metadata": {},
   "outputs": [],
   "source": [
    "# PROJECT CREDENTIALS\n",
    "\n",
    "# Path, load read json with credential secrets\n",
    "proj_conf_file_path = Path.cwd()/'project-config-file.json'\n",
    "\n",
    "# Opening JSON file and load into dict\n",
    "open_proj_conf_file = open(proj_conf_file_path)\n",
    "project_credentials = json.load(open_proj_conf_file)"
   ]
  },
  {
   "cell_type": "code",
   "execution_count": 3,
   "id": "91c609f7-f295-4775-8f09-6e839f7989d0",
   "metadata": {},
   "outputs": [],
   "source": [
    "# PROJECT CREDENTIALS\n",
    "\n",
    "client_id = project_credentials['project_id']\n",
    "client_secret = project_credentials['project_api_key']"
   ]
  },
  {
   "cell_type": "markdown",
   "id": "ca8bb70b-59b8-4e0c-832b-389b5fe8af4c",
   "metadata": {
    "jp-MarkdownHeadingCollapsed": true,
    "tags": []
   },
   "source": [
    "### Functions"
   ]
  },
  {
   "cell_type": "code",
   "execution_count": 40,
   "id": "b061cbd2-a477-4519-90d1-839bafa2e47e",
   "metadata": {},
   "outputs": [],
   "source": [
    "# Get access token\n",
    "def get_ptoken(client_id, client_secret):\n",
    "    response = requests.post(\"https://api.up42.com/oauth/token\",\n",
    "                             data={\"grant_type\": \"client_credentials\"},\n",
    "                             auth=(client_id, client_secret)\n",
    "                            )\n",
    "    \n",
    "    return response.json()[\"access_token\"]\n",
    "\n",
    "# Get all hosts\n",
    "def get_list_hosts(PTOKEN):\n",
    "    response = requests.get(\"https://api.up42.com/hosts\",\n",
    "                            data={\"grant_type\": \"client_credentials\"},\n",
    "                            headers={\"Authorization\": \"Bearer \" + PTOKEN}\n",
    "                           )\n",
    "    return response.json()[\"data\"]\n",
    "\n",
    "# Search data through Hosts \n",
    "def search_hosts(PTOKEN, HOST_NAME):\n",
    "    response = requests.post(\"https://api.up42.com/catalog/hosts/\"+HOST_NAME+\"/stac/search\",\n",
    "                            headers={\"Authorization\": \"Bearer \" + PTOKEN,\n",
    "                                    \"Content-Type\" : \"application/json\"},\n",
    "                             data=updated_payload\n",
    "                           )\n",
    "    return response.json()"
   ]
  },
  {
   "cell_type": "markdown",
   "id": "c925c88d-db92-4b25-8909-178c222165c1",
   "metadata": {
    "jp-MarkdownHeadingCollapsed": true,
    "tags": []
   },
   "source": [
    "### Available Hosts"
   ]
  },
  {
   "cell_type": "code",
   "execution_count": 41,
   "id": "67d6b288-854f-4bca-8980-378d47c1852c",
   "metadata": {},
   "outputs": [
    {
     "data": {
      "text/plain": [
       "['capellaspace', 'nearspacelabs', '21at', 'Sobloo', 'oneatlas', 'airbus']"
      ]
     },
     "execution_count": 41,
     "metadata": {},
     "output_type": "execute_result"
    }
   ],
   "source": [
    "# Build our host list calling \"build_host_list()\" function\n",
    "\n",
    "PTOKEN = get_ptoken(client_id, client_secret)\n",
    "#PTOKEN\n",
    "\n",
    "hosts_name = get_list_hosts(PTOKEN)\n",
    "current_host_list = [((hosts_name)[i]['name']) for i in range(len(hosts_name))]\n",
    "\n",
    "current_host_list"
   ]
  },
  {
   "cell_type": "markdown",
   "id": "06f20370-4785-419c-b899-f32cb19ec0f2",
   "metadata": {
    "jp-MarkdownHeadingCollapsed": true,
    "tags": []
   },
   "source": [
    "### AOI"
   ]
  },
  {
   "cell_type": "code",
   "execution_count": 51,
   "id": "a1a351c4-7d7a-4c1b-971c-887df2872559",
   "metadata": {
    "tags": []
   },
   "outputs": [
    {
     "data": {
      "text/plain": [
       "{'type': 'FeatureCollection',\n",
       " 'features': [{'type': 'Feature',\n",
       "   'properties': {},\n",
       "   'geometry': {'type': 'Polygon',\n",
       "    'coordinates': [[[28.482056, 40.493959],\n",
       "      [28.482056, 40.586321],\n",
       "      [28.589859, 40.586321],\n",
       "      [28.589859, 40.493959],\n",
       "      [28.482056, 40.493959]]]}}]}"
      ]
     },
     "execution_count": 51,
     "metadata": {},
     "output_type": "execute_result"
    }
   ],
   "source": [
    "# Manage aoi file for use in payload or results plot\n",
    "\n",
    "# AOI file path\n",
    "aoi_file_path = Path.cwd()/'aoi/aoi_imrali_adasi.geojson'\n",
    "\n",
    "# Opening JSON file and load into variable aoi\n",
    "aoi_file = open(aoi_file_path)\n",
    "aoi = json.load(aoi_file)\n",
    "\n",
    "# Use geopandas to read aoi file and extract aoi bounds\n",
    "gpaoi = gp.read_file(aoi_file_path)\n",
    "bounds = gpaoi.total_bounds\n",
    "\n",
    "# Bbox coordinates for payload if wanted\n",
    "bbox_coord = [bounds[0], bounds[1], bounds[2], bounds[3]]\n",
    "\n",
    "# Intersects coordinate for payload if wanted\n",
    "intersects_coord = aoi['features'][0]['geometry']\n",
    "\n",
    "aoi"
   ]
  },
  {
   "cell_type": "markdown",
   "id": "cf625cc2-4f26-4d0b-bdd1-b3c3da94a137",
   "metadata": {
    "jp-MarkdownHeadingCollapsed": true,
    "tags": []
   },
   "source": [
    "### Search parameters / Payload"
   ]
  },
  {
   "cell_type": "code",
   "execution_count": 23,
   "id": "ef8f3b52-5970-4a89-9a2a-face282c23e2",
   "metadata": {
    "tags": []
   },
   "outputs": [
    {
     "data": {
      "text/plain": [
       "{'datetime': '2019-03-22T00:00:00Z/2019-03-24T23:59:59Z',\n",
       " 'intersects': {'type': 'Polygon',\n",
       "  'coordinates': [[[13.58899063, 52.72706317],\n",
       "    [13.8941314, 52.73057866],\n",
       "    [13.89381997, 52.4393652],\n",
       "    [13.58935102, 2.43718654],\n",
       "    [1.58899063, 52.72706317]]]},\n",
       " 'limit': 500,\n",
       " 'collections': ['PHR'],\n",
       " 'query': {'cloudCoverage': {'lte': 90},\n",
       "  'resolution': {'lte': 0.3},\n",
       "  'up42:usageType': {'in': ['DATA', 'ANALYTICS']},\n",
       "  'deliveryTime': {'in': ['HOURS', 'MINUTES']},\n",
       "  'producer': {'in': ['Airbus']},\n",
       "  'processingLevel': {'in': ['ALBUM', 'SENSOR']}}}"
      ]
     },
     "execution_count": 23,
     "metadata": {},
     "output_type": "execute_result"
    }
   ],
   "source": [
    "# Search parameters from file - here we essentially set a template payload that is built properly (we can update parameters in the next code block)\n",
    "\n",
    "# File path\n",
    "file_path = Path.cwd()/'search_params/sr_og.json'\n",
    "\n",
    "# Opening JSON file and load into dict\n",
    "sr_file = open(file_path)\n",
    "payload = json.load(sr_file)\n",
    "payload"
   ]
  },
  {
   "cell_type": "code",
   "execution_count": 24,
   "id": "6ea9922b-57e0-4ff8-b5aa-2b0d8df93e6e",
   "metadata": {
    "tags": []
   },
   "outputs": [
    {
     "data": {
      "text/plain": [
       "'{\"datetime\": \"2021-01-01T00:00:00Z/2021-01-31T23:59:59Z\", \"intersects\": {\"type\": \"Polygon\", \"coordinates\": [[[28.482056, 40.493959], [28.482056, 40.586321], [28.589859, 40.586321], [28.589859, 40.493959], [28.482056, 40.493959]]]}, \"limit\": 500, \"collections\": [\"phr\", \"spot\"], \"query\": {\"cloudCoverage\": {\"lte\": 50}, \"resolution\": {\"lte\": 1}}}'"
      ]
     },
     "execution_count": 24,
     "metadata": {},
     "output_type": "execute_result"
    }
   ],
   "source": [
    "# Search parameters - update payload query options (\"Airbus\",\"TWENTY_ONE_AT\", \"ESA\", \"CAPELLA_SPACE\", \"NEAR_SPACE_LABS\")\n",
    "# Collection options: \"phr\", \"spot\", \"pneo\"\n",
    "\n",
    "payload[\"datetime\"] = \"2021-01-01T00:00:00Z/2021-01-31T23:59:59Z\"\n",
    "\n",
    "#del payload[\"intersects\"]\n",
    "payload[\"intersects\"] = intersects_coord\n",
    "\n",
    "#del payload[\"bbox\"]\n",
    "#payload[\"bbox\"] = bbox_coord\n",
    "\n",
    "#del payload[\"contains\"]\n",
    "#payload[\"contains\"] = intersects_coord\n",
    "\n",
    "#del payload[\"limit\"]\n",
    "payload[\"limit\"] = 500\n",
    "\n",
    "#del payload[\"collections\"]\n",
    "payload[\"collections\"] = [\"phr\", \"spot\"]\n",
    "\n",
    "#del payload[\"query\"][\"cloudCoverage\"][\"lte\"]\n",
    "payload[\"query\"][\"cloudCoverage\"][\"lte\"] = 50\n",
    "\n",
    "#del payload[\"query\"][\"resolution\"][\"lte\"]\n",
    "payload[\"query\"][\"resolution\"][\"lte\"] = 1\n",
    "\n",
    "del payload[\"query\"][\"producer\"]\n",
    "#payload[\"query\"][\"producer\"][\"in\"] = []\n",
    "\n",
    "del payload[\"query\"][\"up42:usageType\"]\n",
    "#payload[\"query\"][\"up42:usageType\"][\"in\"] = []\n",
    "\n",
    "del payload[\"query\"][\"processingLevel\"]\n",
    "#payload[\"query\"][\"processingLevel\"][\"in\"] = []\n",
    "\n",
    "del payload[\"query\"][\"deliveryTime\"]\n",
    "#payload[\"query\"][\"deliveryTime\"][\"in\"] = []\n",
    "\n",
    "updated_payload = json.dumps(payload)\n",
    "updated_payload"
   ]
  },
  {
   "cell_type": "markdown",
   "id": "bb215052-d924-4eff-9257-dbb76f394482",
   "metadata": {
    "jp-MarkdownHeadingCollapsed": true,
    "tags": []
   },
   "source": [
    "### Single host search"
   ]
  },
  {
   "cell_type": "code",
   "execution_count": 96,
   "id": "7f163294-71a8-4e0e-b929-822afff362cf",
   "metadata": {},
   "outputs": [],
   "source": [
    "# Remember tokens run out after FIVE MINUTES, refresh often\n",
    "PTOKEN = get_ptoken(client_id, client_secret)"
   ]
  },
  {
   "cell_type": "code",
   "execution_count": 100,
   "id": "b62dc943-36f7-46e0-84be-fd1e9e62faf1",
   "metadata": {},
   "outputs": [
    {
     "name": "stdout",
     "output_type": "stream",
     "text": [
      "5 oneatlas scenes found\n",
      "spot    5\n",
      "Name: collection, dtype: int64\n"
     ]
    }
   ],
   "source": [
    "# Search for data and pass results to geodataframe - change the host name to search other hosts ['capellaspace', 'nearspacelabs', '21at', 'Sobloo', 'oneatlas']\n",
    "HOST_NAME = \"oneatlas\"\n",
    "search_results = search_hosts(PTOKEN, HOST_NAME)\n",
    "\n",
    "try:\n",
    "    gp_search_result = gp.GeoDataFrame.from_features(search_results)\n",
    "    \n",
    "    # Number of scenes found\n",
    "    print(f\"{len(gp_search_result['collection'])} {HOST_NAME} scenes found\")\n",
    "\n",
    "    # Break down per collection (mostly for oneatlas)\n",
    "    print(gp_search_result['collection'].value_counts())\n",
    "\n",
    "except:\n",
    "    print(f'No data found or there was an error')\n",
    "    print(search_results)\n"
   ]
  },
  {
   "cell_type": "code",
   "execution_count": 101,
   "id": "c8efa36a-dac7-45a4-8229-7ca7cd1864be",
   "metadata": {},
   "outputs": [
    {
     "data": {
      "text/plain": [
       "Index(['geometry', 'id', 'constellation', 'collection', 'providerName',\n",
       "       'up42:usageType', 'providerProperties', 'sceneId', 'producer',\n",
       "       'acquisitionDate', 'start_datetime', 'end_datetime', 'cloudCoverage',\n",
       "       'resolution', 'deliveryTime'],\n",
       "      dtype='object')"
      ]
     },
     "execution_count": 101,
     "metadata": {},
     "output_type": "execute_result"
    }
   ],
   "source": [
    "# Available keys that can be used to fine tune search based on available metadata\n",
    "gp_search_result.keys()"
   ]
  },
  {
   "cell_type": "code",
   "execution_count": 102,
   "id": "b78e6f60-2a5e-477f-a192-dc2670e4c6ee",
   "metadata": {
    "tags": []
   },
   "outputs": [
    {
     "name": "stdout",
     "output_type": "stream",
     "text": [
      "0, 2021-01-31T08:39:59.499Z - - > DS_SPOT7_202101310839595_FR1_FR1_SV1_SV1_E028N41_01790\n",
      "1, 2021-01-31T08:39:24.624Z - - > DS_SPOT7_202101310839246_FR1_FR1_FR1_FR1_E028N41_01790\n",
      "2, 2021-01-06T08:32:03.499Z - - > DS_SPOT6_202101060832035_TR1_TR1_TR1_TR1_E029N41_04307\n",
      "3, 2021-01-05T08:40:19.624Z - - > DS_SPOT7_202101050840196_FR1_FR1_FR1_FR1_E028N41_01790\n",
      "4, 2021-01-05T08:39:44.749Z - - > DS_SPOT7_202101050839447_FR1_FR1_FR1_FR1_E028N41_01790\n"
     ]
    }
   ],
   "source": [
    "# This will print some metadata about the returned scenes\n",
    "for i in range(len(gp_search_result)):   \n",
    "        print(f\"{i}, {gp_search_result.acquisitionDate[i]} - - > {gp_search_result.providerProperties[i]['parentIdentifier']}\")"
   ]
  },
  {
   "cell_type": "markdown",
   "id": "853788f7-b9ed-4a38-bc37-a59a2797a9de",
   "metadata": {
    "tags": []
   },
   "source": [
    "### Stereo data"
   ]
  },
  {
   "cell_type": "markdown",
   "id": "1a56c736-c215-4f5d-9833-5e7f96d8d92d",
   "metadata": {},
   "source": [
    "Methodology:\n",
    "Currently there are no tags or id values common to stereo pairs. In order to identify possible pairs we must filter scenes by time of acquisition and then compare Variable Key Information found in the parentIdentifier key. \n",
    "\n",
    "Steps:\n",
    "First - we will build a dictionary containing 'parentIdentifier' and 'acquisitionDate' for each scene.\n",
    "Second - we will compare each scene 'acquisitionDate' to each other and build a list of scene 'parentIdentifier' that pass a time range filter. This list will be the value to a new key named 'validated_times'.\n",
    "Third - we will perform a Variable Key Information validation process. We will in essence compare each scene 'parentIdentifier' to the ones in the 'validated_times' key. We will build a new key called 'stereo_pair' with values the 'parentIdentifier' of the scenes that pass the validation process."
   ]
  },
  {
   "cell_type": "code",
   "execution_count": 103,
   "id": "006505ef-1be1-4d0a-bfb0-501147a91885",
   "metadata": {
    "tags": []
   },
   "outputs": [
    {
     "data": {
      "text/plain": [
       "{0: {'parent_id': 'DS_SPOT7_202101310839595_FR1_FR1_SV1_SV1_E028N41_01790',\n",
       "  'acqui_time': '2021-01-31T08:39:59.499Z'},\n",
       " 1: {'parent_id': 'DS_SPOT7_202101310839246_FR1_FR1_FR1_FR1_E028N41_01790',\n",
       "  'acqui_time': '2021-01-31T08:39:24.624Z'},\n",
       " 2: {'parent_id': 'DS_SPOT6_202101060832035_TR1_TR1_TR1_TR1_E029N41_04307',\n",
       "  'acqui_time': '2021-01-06T08:32:03.499Z'},\n",
       " 3: {'parent_id': 'DS_SPOT7_202101050840196_FR1_FR1_FR1_FR1_E028N41_01790',\n",
       "  'acqui_time': '2021-01-05T08:40:19.624Z'},\n",
       " 4: {'parent_id': 'DS_SPOT7_202101050839447_FR1_FR1_FR1_FR1_E028N41_01790',\n",
       "  'acqui_time': '2021-01-05T08:39:44.749Z'}}"
      ]
     },
     "execution_count": 103,
     "metadata": {},
     "output_type": "execute_result"
    }
   ],
   "source": [
    "# Build dictionary with all search results containing key values: parent_id, acquisition_time\n",
    "\n",
    "bundle_dict = {}\n",
    "for i in range(len(gp_search_result)):\n",
    "    \n",
    "    parentIdentifier = gp_search_result.providerProperties[i]['parentIdentifier']\n",
    "    acqui_time = gp_search_result.acquisitionDate[i]\n",
    "    bundle_dict[i] = {\"parent_id\":parentIdentifier, \"acqui_time\":acqui_time}\n",
    "\n",
    "bundle_dict"
   ]
  },
  {
   "cell_type": "markdown",
   "id": "31745d5a-b4ec-4229-9eaa-dec74c705243",
   "metadata": {
    "jp-MarkdownHeadingCollapsed": true,
    "tags": []
   },
   "source": [
    "#### Validate time"
   ]
  },
  {
   "cell_type": "code",
   "execution_count": 105,
   "id": "7598c2b6-23cd-4b5f-8dbb-0bdaf6772d29",
   "metadata": {
    "tags": []
   },
   "outputs": [
    {
     "name": "stdout",
     "output_type": "stream",
     "text": [
      "\n",
      "# # # - - NEXT  REFERENCE SCENE - -> DS_SPOT7_202101310839595_FR1_FR1_SV1_SV1_E028N41_01790, 2021-01-31 08:39:59.499000\n",
      "DS_SPOT7_202101310839595_FR1_FR1_SV1_SV1_E028N41_01790 < - > DS_SPOT7_202101310839595_FR1_FR1_SV1_SV1_E028N41_01790\n",
      "Skip this is the same as input reference scene\n",
      "\n",
      "DS_SPOT7_202101310839595_FR1_FR1_SV1_SV1_E028N41_01790 < - > DS_SPOT7_202101310839246_FR1_FR1_FR1_FR1_E028N41_01790\n",
      "## These scenes are different ##\n",
      "2021-01-31 08:39:59.499000 2021-01-31 08:39:24.624000\n",
      "0:00:34.875000\n",
      " - -> VALID 2021-01-31T08:39:24.624Z\n",
      "['DS_SPOT7_202101310839246_FR1_FR1_FR1_FR1_E028N41_01790'] \n",
      "\n",
      "DS_SPOT7_202101310839595_FR1_FR1_SV1_SV1_E028N41_01790 < - > DS_SPOT6_202101060832035_TR1_TR1_TR1_TR1_E029N41_04307\n",
      "## These scenes are different ##\n",
      "2021-01-31 08:39:59.499000 2021-01-06 08:32:03.499000\n",
      "25 days, 0:07:56\n",
      " Scene out of time range\n",
      "\n",
      "DS_SPOT7_202101310839595_FR1_FR1_SV1_SV1_E028N41_01790 < - > DS_SPOT7_202101050840196_FR1_FR1_FR1_FR1_E028N41_01790\n",
      "## These scenes are different ##\n",
      "2021-01-31 08:39:59.499000 2021-01-05 08:40:19.624000\n",
      "25 days, 23:59:39.875000\n",
      " Scene out of time range\n",
      "\n",
      "DS_SPOT7_202101310839595_FR1_FR1_SV1_SV1_E028N41_01790 < - > DS_SPOT7_202101050839447_FR1_FR1_FR1_FR1_E028N41_01790\n",
      "## These scenes are different ##\n",
      "2021-01-31 08:39:59.499000 2021-01-05 08:39:44.749000\n",
      "26 days, 0:00:14.750000\n",
      " Scene out of time range\n",
      "\n",
      "\n",
      "# # # - - NEXT  REFERENCE SCENE - -> DS_SPOT7_202101310839246_FR1_FR1_FR1_FR1_E028N41_01790, 2021-01-31 08:39:24.624000\n",
      "DS_SPOT7_202101310839246_FR1_FR1_FR1_FR1_E028N41_01790 < - > DS_SPOT7_202101310839595_FR1_FR1_SV1_SV1_E028N41_01790\n",
      "## These scenes are different ##\n",
      "2021-01-31 08:39:24.624000 2021-01-31 08:39:59.499000\n",
      "0:00:34.875000\n",
      " - -> VALID 2021-01-31T08:39:59.499Z\n",
      "['DS_SPOT7_202101310839595_FR1_FR1_SV1_SV1_E028N41_01790'] \n",
      "\n",
      "DS_SPOT7_202101310839246_FR1_FR1_FR1_FR1_E028N41_01790 < - > DS_SPOT7_202101310839246_FR1_FR1_FR1_FR1_E028N41_01790\n",
      "Skip this is the same as input reference scene\n",
      "\n",
      "DS_SPOT7_202101310839246_FR1_FR1_FR1_FR1_E028N41_01790 < - > DS_SPOT6_202101060832035_TR1_TR1_TR1_TR1_E029N41_04307\n",
      "## These scenes are different ##\n",
      "2021-01-31 08:39:24.624000 2021-01-06 08:32:03.499000\n",
      "25 days, 0:07:21.125000\n",
      " Scene out of time range\n",
      "\n",
      "DS_SPOT7_202101310839246_FR1_FR1_FR1_FR1_E028N41_01790 < - > DS_SPOT7_202101050840196_FR1_FR1_FR1_FR1_E028N41_01790\n",
      "## These scenes are different ##\n",
      "2021-01-31 08:39:24.624000 2021-01-05 08:40:19.624000\n",
      "25 days, 23:59:05\n",
      " Scene out of time range\n",
      "\n",
      "DS_SPOT7_202101310839246_FR1_FR1_FR1_FR1_E028N41_01790 < - > DS_SPOT7_202101050839447_FR1_FR1_FR1_FR1_E028N41_01790\n",
      "## These scenes are different ##\n",
      "2021-01-31 08:39:24.624000 2021-01-05 08:39:44.749000\n",
      "25 days, 23:59:39.875000\n",
      " Scene out of time range\n",
      "\n",
      "\n",
      "# # # - - NEXT  REFERENCE SCENE - -> DS_SPOT6_202101060832035_TR1_TR1_TR1_TR1_E029N41_04307, 2021-01-06 08:32:03.499000\n",
      "DS_SPOT6_202101060832035_TR1_TR1_TR1_TR1_E029N41_04307 < - > DS_SPOT7_202101310839595_FR1_FR1_SV1_SV1_E028N41_01790\n",
      "## These scenes are different ##\n",
      "2021-01-06 08:32:03.499000 2021-01-31 08:39:59.499000\n",
      "25 days, 0:07:56\n",
      " Scene out of time range\n",
      "\n",
      "DS_SPOT6_202101060832035_TR1_TR1_TR1_TR1_E029N41_04307 < - > DS_SPOT7_202101310839246_FR1_FR1_FR1_FR1_E028N41_01790\n",
      "## These scenes are different ##\n",
      "2021-01-06 08:32:03.499000 2021-01-31 08:39:24.624000\n",
      "25 days, 0:07:21.125000\n",
      " Scene out of time range\n",
      "\n",
      "DS_SPOT6_202101060832035_TR1_TR1_TR1_TR1_E029N41_04307 < - > DS_SPOT6_202101060832035_TR1_TR1_TR1_TR1_E029N41_04307\n",
      "Skip this is the same as input reference scene\n",
      "\n",
      "DS_SPOT6_202101060832035_TR1_TR1_TR1_TR1_E029N41_04307 < - > DS_SPOT7_202101050840196_FR1_FR1_FR1_FR1_E028N41_01790\n",
      "## These scenes are different ##\n",
      "2021-01-06 08:32:03.499000 2021-01-05 08:40:19.624000\n",
      "23:51:43.875000\n",
      " Scene out of time range\n",
      "\n",
      "DS_SPOT6_202101060832035_TR1_TR1_TR1_TR1_E029N41_04307 < - > DS_SPOT7_202101050839447_FR1_FR1_FR1_FR1_E028N41_01790\n",
      "## These scenes are different ##\n",
      "2021-01-06 08:32:03.499000 2021-01-05 08:39:44.749000\n",
      "23:52:18.750000\n",
      " Scene out of time range\n",
      "\n",
      "\n",
      "# # # - - NEXT  REFERENCE SCENE - -> DS_SPOT7_202101050840196_FR1_FR1_FR1_FR1_E028N41_01790, 2021-01-05 08:40:19.624000\n",
      "DS_SPOT7_202101050840196_FR1_FR1_FR1_FR1_E028N41_01790 < - > DS_SPOT7_202101310839595_FR1_FR1_SV1_SV1_E028N41_01790\n",
      "## These scenes are different ##\n",
      "2021-01-05 08:40:19.624000 2021-01-31 08:39:59.499000\n",
      "25 days, 23:59:39.875000\n",
      " Scene out of time range\n",
      "\n",
      "DS_SPOT7_202101050840196_FR1_FR1_FR1_FR1_E028N41_01790 < - > DS_SPOT7_202101310839246_FR1_FR1_FR1_FR1_E028N41_01790\n",
      "## These scenes are different ##\n",
      "2021-01-05 08:40:19.624000 2021-01-31 08:39:24.624000\n",
      "25 days, 23:59:05\n",
      " Scene out of time range\n",
      "\n",
      "DS_SPOT7_202101050840196_FR1_FR1_FR1_FR1_E028N41_01790 < - > DS_SPOT6_202101060832035_TR1_TR1_TR1_TR1_E029N41_04307\n",
      "## These scenes are different ##\n",
      "2021-01-05 08:40:19.624000 2021-01-06 08:32:03.499000\n",
      "23:51:43.875000\n",
      " Scene out of time range\n",
      "\n",
      "DS_SPOT7_202101050840196_FR1_FR1_FR1_FR1_E028N41_01790 < - > DS_SPOT7_202101050840196_FR1_FR1_FR1_FR1_E028N41_01790\n",
      "Skip this is the same as input reference scene\n",
      "\n",
      "DS_SPOT7_202101050840196_FR1_FR1_FR1_FR1_E028N41_01790 < - > DS_SPOT7_202101050839447_FR1_FR1_FR1_FR1_E028N41_01790\n",
      "## These scenes are different ##\n",
      "2021-01-05 08:40:19.624000 2021-01-05 08:39:44.749000\n",
      "0:00:34.875000\n",
      " - -> VALID 2021-01-05T08:39:44.749Z\n",
      "['DS_SPOT7_202101050839447_FR1_FR1_FR1_FR1_E028N41_01790'] \n",
      "\n",
      "\n",
      "# # # - - NEXT  REFERENCE SCENE - -> DS_SPOT7_202101050839447_FR1_FR1_FR1_FR1_E028N41_01790, 2021-01-05 08:39:44.749000\n",
      "DS_SPOT7_202101050839447_FR1_FR1_FR1_FR1_E028N41_01790 < - > DS_SPOT7_202101310839595_FR1_FR1_SV1_SV1_E028N41_01790\n",
      "## These scenes are different ##\n",
      "2021-01-05 08:39:44.749000 2021-01-31 08:39:59.499000\n",
      "26 days, 0:00:14.750000\n",
      " Scene out of time range\n",
      "\n",
      "DS_SPOT7_202101050839447_FR1_FR1_FR1_FR1_E028N41_01790 < - > DS_SPOT7_202101310839246_FR1_FR1_FR1_FR1_E028N41_01790\n",
      "## These scenes are different ##\n",
      "2021-01-05 08:39:44.749000 2021-01-31 08:39:24.624000\n",
      "25 days, 23:59:39.875000\n",
      " Scene out of time range\n",
      "\n",
      "DS_SPOT7_202101050839447_FR1_FR1_FR1_FR1_E028N41_01790 < - > DS_SPOT6_202101060832035_TR1_TR1_TR1_TR1_E029N41_04307\n",
      "## These scenes are different ##\n",
      "2021-01-05 08:39:44.749000 2021-01-06 08:32:03.499000\n",
      "23:52:18.750000\n",
      " Scene out of time range\n",
      "\n",
      "DS_SPOT7_202101050839447_FR1_FR1_FR1_FR1_E028N41_01790 < - > DS_SPOT7_202101050840196_FR1_FR1_FR1_FR1_E028N41_01790\n",
      "## These scenes are different ##\n",
      "2021-01-05 08:39:44.749000 2021-01-05 08:40:19.624000\n",
      "0:00:34.875000\n",
      " - -> VALID 2021-01-05T08:40:19.624Z\n",
      "['DS_SPOT7_202101050840196_FR1_FR1_FR1_FR1_E028N41_01790'] \n",
      "\n",
      "DS_SPOT7_202101050839447_FR1_FR1_FR1_FR1_E028N41_01790 < - > DS_SPOT7_202101050839447_FR1_FR1_FR1_FR1_E028N41_01790\n",
      "Skip this is the same as input reference scene\n",
      "\n"
     ]
    }
   ],
   "source": [
    "# For each row(key) in our dictionary we will use the acquisition time and run an inner for loop to compare this reference acquisition time against all the\n",
    "# other scenes in the dictionary. If a scene passes our time requirements it is added to the valid_delta_time_list. Update bundle_dict dictionary with a new key \"validated_times\".\n",
    "\n",
    "# Outer loop - to set a reference  \n",
    "for row in bundle_dict:\n",
    "    valid_delta_time_list = []\n",
    "    reference_input_scene = bundle_dict[row]['parent_id']\n",
    "    \n",
    "    # Handle time format exception, for data from 2020 and earlier, time acquisition stamps is different\n",
    "    try:\n",
    "        reference_time = datetime.strptime(bundle_dict[row]['acqui_time'], \"%Y-%m-%dT%H:%M:%S.%fZ\")\n",
    "    \n",
    "    except:\n",
    "        reference_time = datetime.strptime(bundle_dict[row]['acqui_time'], \"%Y-%m-%dT%H:%M:%SZ\")\n",
    "    \n",
    "    print(f\"\\n# # # - - NEXT  REFERENCE SCENE - -> {reference_input_scene}, {reference_time}\")\n",
    "    \n",
    "    # Inner loop -  here we compare our reference to all other rows in the dictionnary\n",
    "    for scene in bundle_dict:\n",
    "\n",
    "        print(f\"{reference_input_scene} < - > {bundle_dict[scene]['parent_id']}\")\n",
    "        \n",
    "        if reference_input_scene != bundle_dict[scene]['parent_id']:\n",
    "            print('## These scenes are different ##')\n",
    "            \n",
    "            # Handle time format exception\n",
    "            try:\n",
    "                scene_time = datetime.strptime(bundle_dict[scene]['acqui_time'], \"%Y-%m-%dT%H:%M:%S.%fZ\")\n",
    "            except:\n",
    "                scene_time = datetime.strptime(bundle_dict[scene]['acqui_time'], \"%Y-%m-%dT%H:%M:%SZ\")\n",
    "            \n",
    "            print(reference_time, scene_time)\n",
    "            \n",
    "            # Handle the subtraction order (this changes if the ref_scene is more or less recent that the other scene_time)\n",
    "            if reference_time > scene_time:\n",
    "                t_delta = (reference_time - scene_time)\n",
    "                print(t_delta)\n",
    "            else:\n",
    "                t_delta = (scene_time - reference_time)\n",
    "                print(t_delta)\n",
    "            \n",
    "            # We keep scenes that are within 100 seconds of our reference scene.\n",
    "            if 100 > t_delta.seconds > 0 and  t_delta.days <= 1:\n",
    "                print(f\" - -> VALID {bundle_dict[scene]['acqui_time']}\")\n",
    "                \n",
    "                # Create the new dict key\n",
    "                valid_delta_time_list.append(bundle_dict[scene]['parent_id'])\n",
    "                print(f'{valid_delta_time_list} \\n')\n",
    "            \n",
    "                # Update the key with our list\n",
    "                validated_times_key_value = {\"validated_times\": valid_delta_time_list}\n",
    "                bundle_dict[row].update(validated_times_key_value)\n",
    "            \n",
    "            else:\n",
    "                print(f\" Scene out of time range\\n\")\n",
    "                \n",
    "        else:\n",
    "            print(f\"Skip this is the same as input reference scene\\n\")\n",
    "            "
   ]
  },
  {
   "cell_type": "code",
   "execution_count": 109,
   "id": "7a5be203-de96-4564-9aad-904c358a11eb",
   "metadata": {
    "tags": []
   },
   "outputs": [
    {
     "data": {
      "text/plain": [
       "{0: {'parent_id': 'DS_SPOT7_202101310839595_FR1_FR1_SV1_SV1_E028N41_01790',\n",
       "  'acqui_time': '2021-01-31T08:39:59.499Z',\n",
       "  'validated_times': ['DS_SPOT7_202101310839246_FR1_FR1_FR1_FR1_E028N41_01790']},\n",
       " 1: {'parent_id': 'DS_SPOT7_202101310839246_FR1_FR1_FR1_FR1_E028N41_01790',\n",
       "  'acqui_time': '2021-01-31T08:39:24.624Z',\n",
       "  'validated_times': ['DS_SPOT7_202101310839595_FR1_FR1_SV1_SV1_E028N41_01790']},\n",
       " 2: {'parent_id': 'DS_SPOT6_202101060832035_TR1_TR1_TR1_TR1_E029N41_04307',\n",
       "  'acqui_time': '2021-01-06T08:32:03.499Z'},\n",
       " 3: {'parent_id': 'DS_SPOT7_202101050840196_FR1_FR1_FR1_FR1_E028N41_01790',\n",
       "  'acqui_time': '2021-01-05T08:40:19.624Z',\n",
       "  'validated_times': ['DS_SPOT7_202101050839447_FR1_FR1_FR1_FR1_E028N41_01790']},\n",
       " 4: {'parent_id': 'DS_SPOT7_202101050839447_FR1_FR1_FR1_FR1_E028N41_01790',\n",
       "  'acqui_time': '2021-01-05T08:39:44.749Z',\n",
       "  'validated_times': ['DS_SPOT7_202101050840196_FR1_FR1_FR1_FR1_E028N41_01790']}}"
      ]
     },
     "execution_count": 109,
     "metadata": {},
     "output_type": "execute_result"
    }
   ],
   "source": [
    "# Print bundle_dict to see the updates\n",
    "bundle_dict"
   ]
  },
  {
   "cell_type": "markdown",
   "id": "8797f378-36b6-4d40-90a7-ae164e310bf3",
   "metadata": {
    "jp-MarkdownHeadingCollapsed": true,
    "tags": []
   },
   "source": [
    "#### Variable Key Information validation process"
   ]
  },
  {
   "cell_type": "code",
   "execution_count": 111,
   "id": "7c74abe2-fed5-4632-83b4-2c7ccb055c4c",
   "metadata": {
    "tags": []
   },
   "outputs": [
    {
     "name": "stdout",
     "output_type": "stream",
     "text": [
      "Ref scene ID: DS_SPOT7_202101310839595_FR1_FR1_SV1_SV1_E028N41_01790\n",
      "Time validated list: ['DS_SPOT7_202101310839246_FR1_FR1_FR1_FR1_E028N41_01790']\n",
      "Start validation\n",
      "DS_SPOT7 - - - > DS_SPOT7\n",
      "Failed Variable Key Information validation process on XxxxYyy\n",
      "[]\n",
      "Ref scene ID: DS_SPOT7_202101310839246_FR1_FR1_FR1_FR1_E028N41_01790\n",
      "Time validated list: ['DS_SPOT7_202101310839595_FR1_FR1_SV1_SV1_E028N41_01790']\n",
      "Start validation\n",
      "DS_SPOT7 - - - > DS_SPOT7\n",
      "Failed Variable Key Information validation process on XxxxYyy\n",
      "[]\n",
      "Ref scene ID: DS_SPOT7_202101050840196_FR1_FR1_FR1_FR1_E028N41_01790\n",
      "Time validated list: ['DS_SPOT7_202101050839447_FR1_FR1_FR1_FR1_E028N41_01790']\n",
      "Start validation\n",
      "DS_SPOT7 - - - > DS_SPOT7\n",
      "_FR1_FR - - - > _FR1_FR\n",
      "8N41 - - - > 8N41\n",
      "PASSED Variable Key Information validation process\n",
      "['DS_SPOT7_202101050839447_FR1_FR1_FR1_FR1_E028N41_01790'] \n",
      "\n",
      "['DS_SPOT7_202101050839447_FR1_FR1_FR1_FR1_E028N41_01790']\n",
      "Ref scene ID: DS_SPOT7_202101050839447_FR1_FR1_FR1_FR1_E028N41_01790\n",
      "Time validated list: ['DS_SPOT7_202101050840196_FR1_FR1_FR1_FR1_E028N41_01790']\n",
      "Start validation\n",
      "DS_SPOT7 - - - > DS_SPOT7\n",
      "_FR1_FR - - - > _FR1_FR\n",
      "8N41 - - - > 8N41\n",
      "PASSED Variable Key Information validation process\n",
      "['DS_SPOT7_202101050840196_FR1_FR1_FR1_FR1_E028N41_01790'] \n",
      "\n",
      "['DS_SPOT7_202101050840196_FR1_FR1_FR1_FR1_E028N41_01790']\n"
     ]
    }
   ],
   "source": [
    "# We will perform a validation process on each scene against the parentIdentifiers that can now be found in 'validated_times' key. \n",
    "\n",
    "# Outer loop - to set a reference \n",
    "for key in bundle_dict:\n",
    "    \n",
    "    # Check if dictionary ['validated_times'] key exist\n",
    "    try:\n",
    "        bundle_dict[key]['validated_times']\n",
    "\n",
    "        # Reference scene variable key information\n",
    "        ref_SAT_NUMBER = bundle_dict[key]['parent_id'][0:8]\n",
    "        ref_XxxxYyy = bundle_dict[key]['parent_id'][32:39]\n",
    "        ref_KKLL = bundle_dict[key]['parent_id'][-10:-6]\n",
    "        ref_TTTTT = bundle_dict[key]['parent_id'][-5:]\n",
    "\n",
    "        print(f\"Ref scene ID: {bundle_dict[key]['parent_id']}\")\n",
    "\n",
    "        # List to perform the validation process on\n",
    "        print(f\"Time validated list: {bundle_dict[key]['validated_times']}\")\n",
    "\n",
    "        # Inner loop, for the key/row/entry we are currently in, we loop over the values in 'validated_times' against our reference parent_id\n",
    "        stereo_pair_list = []        \n",
    "        for item in bundle_dict[key]['validated_times']:\n",
    "#            print(item[0:8], item[32:39], item[-10:-6], item[-5:])\n",
    "            print(\"Start validation\")\n",
    "\n",
    "            if ref_SAT_NUMBER == item[0:8]:\n",
    "                print(f'{ref_SAT_NUMBER} - - - > {item[0:8]}')\n",
    "                if ref_XxxxYyy == item[32:39]:\n",
    "                    print(f'{ref_XxxxYyy} - - - > {item[32:39]}')\n",
    "                    if ref_KKLL == item[-10:-6]:\n",
    "                        print(f'{ref_KKLL} - - - > {item[-10:-6]}')\n",
    "                        print(f'PASSED Variable Key Information validation process')\n",
    "\n",
    "                        stereo_pair_list.append(item)  \n",
    "                        print(f'{stereo_pair_list} \\n')                              \n",
    "                    else:\n",
    "                        print(f'Failed Variable Key Information validation process on KKLL')\n",
    "                else:\n",
    "                        print(f'Failed Variable Key Information validation process on XxxxYyy')\n",
    "            else:\n",
    "                        print(f'Failed Variable Key Information validation process on SAT_NUMBER')\n",
    "        print(stereo_pair_list)\n",
    "\n",
    "        stereo_pair_key_value = {\"stereo_pair\":stereo_pair_list}\n",
    "        bundle_dict[key].update(stereo_pair_key_value)\n",
    "\n",
    "    except:\n",
    "#        bundle_dict[key].pop('stereo_pair')\n",
    "        continue"
   ]
  },
  {
   "cell_type": "code",
   "execution_count": 114,
   "id": "0c4f9864-2c60-4093-8308-1a7ac606d57a",
   "metadata": {},
   "outputs": [
    {
     "data": {
      "text/plain": [
       "{0: {'parent_id': 'DS_SPOT7_202101310839595_FR1_FR1_SV1_SV1_E028N41_01790',\n",
       "  'acqui_time': '2021-01-31T08:39:59.499Z',\n",
       "  'validated_times': ['DS_SPOT7_202101310839246_FR1_FR1_FR1_FR1_E028N41_01790'],\n",
       "  'stereo_pair': []},\n",
       " 1: {'parent_id': 'DS_SPOT7_202101310839246_FR1_FR1_FR1_FR1_E028N41_01790',\n",
       "  'acqui_time': '2021-01-31T08:39:24.624Z',\n",
       "  'validated_times': ['DS_SPOT7_202101310839595_FR1_FR1_SV1_SV1_E028N41_01790'],\n",
       "  'stereo_pair': []},\n",
       " 2: {'parent_id': 'DS_SPOT6_202101060832035_TR1_TR1_TR1_TR1_E029N41_04307',\n",
       "  'acqui_time': '2021-01-06T08:32:03.499Z'},\n",
       " 3: {'parent_id': 'DS_SPOT7_202101050840196_FR1_FR1_FR1_FR1_E028N41_01790',\n",
       "  'acqui_time': '2021-01-05T08:40:19.624Z',\n",
       "  'validated_times': ['DS_SPOT7_202101050839447_FR1_FR1_FR1_FR1_E028N41_01790'],\n",
       "  'stereo_pair': ['DS_SPOT7_202101050839447_FR1_FR1_FR1_FR1_E028N41_01790']},\n",
       " 4: {'parent_id': 'DS_SPOT7_202101050839447_FR1_FR1_FR1_FR1_E028N41_01790',\n",
       "  'acqui_time': '2021-01-05T08:39:44.749Z',\n",
       "  'validated_times': ['DS_SPOT7_202101050840196_FR1_FR1_FR1_FR1_E028N41_01790'],\n",
       "  'stereo_pair': ['DS_SPOT7_202101050840196_FR1_FR1_FR1_FR1_E028N41_01790']}}"
      ]
     },
     "execution_count": 114,
     "metadata": {},
     "output_type": "execute_result"
    }
   ],
   "source": [
    "# print to see updates\n",
    "bundle_dict"
   ]
  },
  {
   "cell_type": "code",
   "execution_count": 116,
   "id": "eb27728a-453d-4cb0-b61d-83fe41e46403",
   "metadata": {},
   "outputs": [
    {
     "name": "stdout",
     "output_type": "stream",
     "text": [
      "Parent: DS_SPOT7_202101310839595_FR1_FR1_SV1_SV1_E028N41_01790 has pair []\n",
      "Parent: DS_SPOT7_202101310839246_FR1_FR1_FR1_FR1_E028N41_01790 has pair []\n",
      "Parent: DS_SPOT7_202101050840196_FR1_FR1_FR1_FR1_E028N41_01790 has pair ['DS_SPOT7_202101050839447_FR1_FR1_FR1_FR1_E028N41_01790']\n",
      "Parent: DS_SPOT7_202101050839447_FR1_FR1_FR1_FR1_E028N41_01790 has pair ['DS_SPOT7_202101050840196_FR1_FR1_FR1_FR1_E028N41_01790']\n"
     ]
    }
   ],
   "source": [
    "# Print the results for better readiblity (there are duplicates)\n",
    "for resi in bundle_dict:\n",
    "    try:\n",
    "        bundle_dict[key]['validated_times']\n",
    "        \n",
    "        parid = bundle_dict[resi][\"parent_id\"]\n",
    "        stereopair = bundle_dict[resi][\"stereo_pair\"]\n",
    "    \n",
    "        print(f\"Parent: {parid} has pair {stereopair}\")\n",
    "    except:\n",
    "        continue"
   ]
  },
  {
   "cell_type": "markdown",
   "id": "5527fa12-8b3e-422e-9b7c-e1adf2532c4f",
   "metadata": {
    "jp-MarkdownHeadingCollapsed": true,
    "tags": []
   },
   "source": [
    "### Plot results"
   ]
  },
  {
   "cell_type": "code",
   "execution_count": 117,
   "id": "725a1a84-f885-49e7-a47d-834e76f17a25",
   "metadata": {
    "tags": []
   },
   "outputs": [
    {
     "data": {
      "image/png": "[encoded data removed]",
      "text/plain": [
       "<Figure size 864x1152 with 1 Axes>"
      ]
     },
     "metadata": {
      "needs_background": "light"
     },
     "output_type": "display_data"
    }
   ],
   "source": [
    "# Plot coverage\n",
    "zoom_factor = 2\n",
    "fig = plt.figure(figsize=(12, 16))\n",
    "\n",
    "ax = plt.axes(projection=ccrs.PlateCarree())\n",
    "ax.coastlines(resolution='50m', color='darkslategray', linewidth=0.25)\n",
    "ax.add_feature(cfeature.BORDERS, linestyle=':', linewidth=0.5, zorder=1)\n",
    "ax.add_feature(cfeature.LAND, zorder=0)\n",
    "ax.set_extent([bounds[0]+zoom_factor, bounds[2]-zoom_factor, bounds[1]+zoom_factor, bounds[3]-zoom_factor])\n",
    "ax.gridlines(draw_labels=True, dms=True, x_inline=False, y_inline=False)\n",
    "\n",
    "ax.add_geometries(gpaoi.geometry, crs=ccrs.PlateCarree(),\n",
    "                  edgecolor='blue', facecolor='none', zorder = 2)\n",
    "#ax.add_geometries(all_host_results.geometry, crs=ccrs.PlateCarree(),\n",
    "#                  edgecolor='magenta', facecolor='none', zorder = 3)\n",
    "ax.add_geometries(gp_search_result.geometry, crs=ccrs.PlateCarree(),\n",
    "                  edgecolor='magenta', facecolor='none', zorder = 4)\n",
    "\n",
    "\n",
    "plt.show()"
   ]
  },
  {
   "cell_type": "markdown",
   "id": "9c07bd9c-d017-45d3-aef3-6c1134237427",
   "metadata": {},
   "source": [
    "If you have any questions or would like advice on other up42 things, feel free to reach out!!\n",
    "Happy developing - Alex (alex.bishop@up42.com)"
   ]
  },
  {
   "cell_type": "code",
   "execution_count": null,
   "id": "8bf3358a-274b-42d8-9586-cd14cad4def4",
   "metadata": {},
   "outputs": [],
   "source": []
  }
 ],
 "metadata": {
  "kernelspec": {
   "display_name": "Python 3 (ipykernel)",
   "language": "python",
   "name": "python3"
  },
  "language_info": {
   "codemirror_mode": {
    "name": "ipython",
    "version": 3
   },
   "file_extension": ".py",
   "mimetype": "text/x-python",
   "name": "python",
   "nbconvert_exporter": "python",
   "pygments_lexer": "ipython3",
   "version": "3.8.12"
  }
 },
 "nbformat": 4,
 "nbformat_minor": 5
}
