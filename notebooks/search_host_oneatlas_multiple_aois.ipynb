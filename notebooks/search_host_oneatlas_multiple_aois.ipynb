{
 "cells": [
  {
   "cell_type": "markdown",
   "id": "6083cabb-459a-485f-bd6f-1f629f3bad97",
   "metadata": {
    "tags": []
   },
   "source": [
    "## OneAtlas data search for multiple aoi's in folder with search report, coverage and metadata output"
   ]
  },
  {
   "cell_type": "markdown",
   "id": "7d7a13d3-c184-4162-9366-28e471ca0db1",
   "metadata": {
    "jp-MarkdownHeadingCollapsed": true,
    "tags": []
   },
   "source": [
    "### Libraries"
   ]
  },
  {
   "cell_type": "code",
   "execution_count": null,
   "id": "76c85b7f-98b5-454d-88c4-f5ae48c0e0c6",
   "metadata": {},
   "outputs": [],
   "source": [
    "import requests\n",
    "from pathlib import Path\n",
    "import json\n",
    "import geopandas as gp\n",
    "import matplotlib.pyplot as plt\n",
    "import cartopy.crs as ccrs\n",
    "import cartopy.feature as cfeature\n",
    "from datetime import datetime\n",
    "from datetime import timedelta\n",
    "import os\n",
    "import fiona\n",
    "import csv"
   ]
  },
  {
   "cell_type": "code",
   "execution_count": null,
   "id": "7976a512-a2a6-48a3-8adf-7841d27fa330",
   "metadata": {
    "tags": []
   },
   "outputs": [],
   "source": [
    "#fiona.supported_drivers"
   ]
  },
  {
   "cell_type": "markdown",
   "id": "07fde5d8-fa51-4438-a887-e1c20a9a858d",
   "metadata": {
    "jp-MarkdownHeadingCollapsed": true,
    "tags": []
   },
   "source": [
    "### Credentials"
   ]
  },
  {
   "cell_type": "code",
   "execution_count": null,
   "id": "9bc009a8-84ad-440a-bc2c-21ae7fb6f668",
   "metadata": {},
   "outputs": [],
   "source": [
    "# PROJECT CREDENTIALS\n",
    "\n",
    "# Path, load read json with credential secrets\n",
    "proj_conf_file_path = Path.cwd()/'project-config-file.json'\n",
    "\n",
    "# Opening JSON file and load into dict\n",
    "open_proj_conf_file = open(proj_conf_file_path)\n",
    "project_credentials = json.load(open_proj_conf_file)"
   ]
  },
  {
   "cell_type": "code",
   "execution_count": null,
   "id": "91c609f7-f295-4775-8f09-6e839f7989d0",
   "metadata": {},
   "outputs": [],
   "source": [
    "# PROJECT CREDENTIALS\n",
    "\n",
    "client_id = project_credentials['project_id']\n",
    "client_secret = project_credentials['project_api_key']"
   ]
  },
  {
   "cell_type": "markdown",
   "id": "ca8bb70b-59b8-4e0c-832b-389b5fe8af4c",
   "metadata": {
    "jp-MarkdownHeadingCollapsed": true,
    "tags": []
   },
   "source": [
    "### Functions"
   ]
  },
  {
   "cell_type": "code",
   "execution_count": null,
   "id": "b061cbd2-a477-4519-90d1-839bafa2e47e",
   "metadata": {},
   "outputs": [],
   "source": [
    "# Get access token\n",
    "def get_ptoken(client_id, client_secret):\n",
    "    response = requests.post(\"https://api.up42.com/oauth/token\",\n",
    "                             data={\"grant_type\": \"client_credentials\"},\n",
    "                             auth=(client_id, client_secret)\n",
    "                            )\n",
    "    \n",
    "    return response.json()[\"access_token\"]\n",
    "\n",
    "# Get all hosts\n",
    "def get_list_hosts(PTOKEN):\n",
    "    response = requests.get(\"https://api.up42.com/hosts\",\n",
    "                            data={\"grant_type\": \"client_credentials\"},\n",
    "                            headers={\"Authorization\": \"Bearer \" + PTOKEN}\n",
    "                           )\n",
    "    return response.json()[\"data\"]\n",
    "\n",
    "# Search data through Hosts \n",
    "def search_hosts(PTOKEN, HOST_NAME):\n",
    "    response = requests.post(\"https://api.up42.com/catalog/hosts/\"+HOST_NAME+\"/stac/search\",\n",
    "                            headers={\"Authorization\": \"Bearer \" + PTOKEN,\n",
    "                                    \"Content-Type\" : \"application/json\"},\n",
    "                             data=updated_payload\n",
    "                           )\n",
    "    return response.json()"
   ]
  },
  {
   "cell_type": "markdown",
   "id": "c925c88d-db92-4b25-8909-178c222165c1",
   "metadata": {
    "jp-MarkdownHeadingCollapsed": true,
    "tags": []
   },
   "source": [
    "### Available Hosts"
   ]
  },
  {
   "cell_type": "code",
   "execution_count": null,
   "id": "67d6b288-854f-4bca-8980-378d47c1852c",
   "metadata": {},
   "outputs": [],
   "source": [
    "# Build our host list calling \"build_host_list()\" function\n",
    "\n",
    "PTOKEN = get_ptoken(client_id, client_secret)\n",
    "#PTOKEN\n",
    "\n",
    "hosts_name = get_list_hosts(PTOKEN)\n",
    "current_host_list = [((hosts_name)[i]['name']) for i in range(len(hosts_name))]"
   ]
  },
  {
   "cell_type": "code",
   "execution_count": null,
   "id": "0130bebf-cd12-4c69-9701-b2476bbb8cb7",
   "metadata": {},
   "outputs": [],
   "source": [
    "current_host_list"
   ]
  },
  {
   "cell_type": "markdown",
   "id": "a03d3c70-e30c-46da-bbbd-165fecf28be7",
   "metadata": {
    "jp-MarkdownHeadingCollapsed": true,
    "tags": []
   },
   "source": [
    "### Output folder and AOI folder path"
   ]
  },
  {
   "cell_type": "code",
   "execution_count": null,
   "id": "dc741fef-5442-4136-bfcb-0934795e06ea",
   "metadata": {},
   "outputs": [],
   "source": [
    "# Create an folder to save the search results into\n",
    "time_stamp = datetime.now().strftime(\"%Y%m%d%H%M\")\n",
    "out_dir_name = './search_results_clt_'+time_stamp+'/'\n",
    "os.mkdir(out_dir_name)"
   ]
  },
  {
   "cell_type": "code",
   "execution_count": null,
   "id": "6b3e609b-4134-4fb5-92cc-6c23be9c738b",
   "metadata": {},
   "outputs": [],
   "source": [
    "# AOI folder path\n",
    "aoi_folder_path = Path.cwd()/'aoi/columbia_land_trust'"
   ]
  },
  {
   "cell_type": "markdown",
   "id": "aba5d95b-44c2-49a1-ba6b-9f138871f9b2",
   "metadata": {
    "jp-MarkdownHeadingCollapsed": true,
    "tags": []
   },
   "source": [
    "### Run the search over the aoi's in folder"
   ]
  },
  {
   "cell_type": "code",
   "execution_count": null,
   "id": "6b72a1fc-203c-46b1-ba58-8a2bf0504e1b",
   "metadata": {
    "tags": []
   },
   "outputs": [],
   "source": [
    "# list to hold basic search result information about each aoi to a csv for easy for quick look at data availability over each aoi\n",
    "csv_data = []\n",
    "\n",
    "# Loop and script\n",
    "for geojson_file in sorted(aoi_folder_path.iterdir()):\n",
    "    if geojson_file.suffix == \".geojson\":\n",
    "\n",
    "   # Open and load an aoi file     \n",
    "        aoi_file = open(geojson_file, encoding = \"ISO-8859-1\")\n",
    "        aoi = json.load(aoi_file)\n",
    "        intersects_coord = aoi['features'][0]['geometry']\n",
    "\n",
    "#        print(f'{geojson_file.stem} - {intersects_coord}')\n",
    "\n",
    "    # Search parameters payload template\n",
    "        file_path = Path.cwd()/'search_params/sr_land_trust.json'\n",
    "\n",
    "    # Opening payload file and load into dict\n",
    "        sr_file = open(file_path)\n",
    "        payload = json.load(sr_file)\n",
    "#        print(payload)\n",
    "\n",
    "    # Update the search parameters payload with the current aoi coordinates\n",
    "        #del payload[\"intersects\"]\n",
    "        payload[\"intersects\"] = intersects_coord\n",
    "\n",
    "        updated_payload = json.dumps(payload)\n",
    "        print(updated_payload)\n",
    "\n",
    "    # Search the archive\n",
    "        PTOKEN = get_ptoken(client_id, client_secret)\n",
    "        HOST_NAME = \"oneatlas\"\n",
    "        gp_search_result = gp.GeoDataFrame.from_features(search_hosts(PTOKEN, HOST_NAME))\n",
    "       # gp_search_result\n",
    "    \n",
    "    # Number of scenes found\n",
    "        print(f\"{geojson_file.stem} - {len(gp_search_result['collection'])} {HOST_NAME} scenes found\")\n",
    "\n",
    "        \n",
    "    # Break down resuls for use in csv later\n",
    "        results_for_csv = gp_search_result['collection'].value_counts()\n",
    "        \n",
    "        try:\n",
    "            pneo_result_count = results_for_csv['pneo']\n",
    "        except:\n",
    "            pneo_result_count = 0\n",
    "        \n",
    "        try:\n",
    "            pleiades_result_count = results_for_csv['phr']\n",
    "        except:\n",
    "            pleiades_result_count = 0\n",
    "            \n",
    "        try:    \n",
    "            spot_result_count = results_for_csv['spot']\n",
    "        except:\n",
    "            spot_result_count = 0        \n",
    "        \n",
    "        csv_data.append([geojson_file.stem, aoi['features'][0]['properties']['id'], pneo_result_count, pleiades_result_count, spot_result_count])\n",
    "        \n",
    "          \n",
    "    # remove list from the geopandas dataframe or will not be able to save file geojson\n",
    "        drop_column_gp = gp_search_result.drop(columns=['up42:usageType'])\n",
    "        \n",
    "    # CSet output file names (result metadata and coverage)\n",
    "        write_file_name = geojson_file.stem+'_results'\n",
    "        output_path_name = './'+out_dir_name+'/'+write_file_name+'.geojson'\n",
    "        \n",
    "    # Write results to geojson\n",
    "        drop_column_gp.to_file(output_path_name, mode='w', driver='GeoJSON')\n",
    "        \n",
    "        \n",
    "        "
   ]
  },
  {
   "cell_type": "markdown",
   "id": "91e2fe79-dfd4-4d39-848e-5518a10892e2",
   "metadata": {
    "jp-MarkdownHeadingCollapsed": true,
    "tags": []
   },
   "source": [
    "### Build and save CSV file containing basic search result information per aoi"
   ]
  },
  {
   "cell_type": "code",
   "execution_count": null,
   "id": "c454a560-9a42-423a-ba76-321c2675a856",
   "metadata": {
    "tags": []
   },
   "outputs": [],
   "source": [
    "# Print the data that will go into the csv file\n",
    "#csv_data"
   ]
  },
  {
   "cell_type": "code",
   "execution_count": null,
   "id": "4249893b-b65b-4058-8df9-db0e11fd18c7",
   "metadata": {},
   "outputs": [],
   "source": [
    "# Build csv from results in list csv_data\n",
    "csv_output_path = './'+out_dir_name+'/clt_oneatlas_search_results.csv'\n",
    "\n",
    "header = ['aoi_file', 'id', 'pneo', 'pleiades', 'spot']\n",
    "\n",
    "with open(csv_output_path, 'w', encoding='UTF8') as f:\n",
    "    writer = csv.writer(f)\n",
    "           \n",
    "    # write the header\n",
    "    writer.writerow(header)    \n",
    "            \n",
    "    # write the data\n",
    "    writer.writerows(csv_data)  "
   ]
  },
  {
   "cell_type": "markdown",
   "id": "9c07bd9c-d017-45d3-aef3-6c1134237427",
   "metadata": {},
   "source": [
    "If you have any questions or would like advice on other up42 things, feel free to reach out!!\n",
    "Happy developing - Alex (alex.bishop@up42.com)"
   ]
  }
 ],
 "metadata": {
  "kernelspec": {
   "display_name": "Python 3 (ipykernel)",
   "language": "python",
   "name": "python3"
  },
  "language_info": {
   "codemirror_mode": {
    "name": "ipython",
    "version": 3
   },
   "file_extension": ".py",
   "mimetype": "text/x-python",
   "name": "python",
   "nbconvert_exporter": "python",
   "pygments_lexer": "ipython3",
   "version": "3.8.12"
  }
 },
 "nbformat": 4,
 "nbformat_minor": 5
}
